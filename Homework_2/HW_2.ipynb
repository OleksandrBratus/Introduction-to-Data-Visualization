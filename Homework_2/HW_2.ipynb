{
 "cells": [
  {
   "cell_type": "code",
   "execution_count": 1,
   "metadata": {},
   "outputs": [],
   "source": [
    "import pandas as pd\n",
    "import numpy as np\n",
    "import altair as alt"
   ]
  },
  {
   "cell_type": "code",
   "execution_count": 2,
   "metadata": {},
   "outputs": [
    {
     "data": {
      "text/plain": [
       "DataTransformerRegistry.enable('default')"
      ]
     },
     "execution_count": 2,
     "metadata": {},
     "output_type": "execute_result"
    }
   ],
   "source": [
    "alt.data_transformers.enable('default', max_rows=None)"
   ]
  },
  {
   "cell_type": "code",
   "execution_count": 3,
   "metadata": {},
   "outputs": [
    {
     "data": {
      "text/html": [
       "<div>\n",
       "<style scoped>\n",
       "    .dataframe tbody tr th:only-of-type {\n",
       "        vertical-align: middle;\n",
       "    }\n",
       "\n",
       "    .dataframe tbody tr th {\n",
       "        vertical-align: top;\n",
       "    }\n",
       "\n",
       "    .dataframe thead th {\n",
       "        text-align: right;\n",
       "    }\n",
       "</style>\n",
       "<table border=\"1\" class=\"dataframe\">\n",
       "  <thead>\n",
       "    <tr style=\"text-align: right;\">\n",
       "      <th></th>\n",
       "      <th>region</th>\n",
       "      <th>year</th>\n",
       "      <th>rate</th>\n",
       "    </tr>\n",
       "  </thead>\n",
       "  <tbody>\n",
       "    <tr>\n",
       "      <td>0</td>\n",
       "      <td>Crimea</td>\n",
       "      <td>1990</td>\n",
       "      <td>2.5</td>\n",
       "    </tr>\n",
       "    <tr>\n",
       "      <td>1</td>\n",
       "      <td>Vinnytsia</td>\n",
       "      <td>1990</td>\n",
       "      <td>-2.1</td>\n",
       "    </tr>\n",
       "    <tr>\n",
       "      <td>2</td>\n",
       "      <td>Volyn</td>\n",
       "      <td>1990</td>\n",
       "      <td>4.0</td>\n",
       "    </tr>\n",
       "    <tr>\n",
       "      <td>3</td>\n",
       "      <td>Dnipropetrovsk</td>\n",
       "      <td>1990</td>\n",
       "      <td>0.5</td>\n",
       "    </tr>\n",
       "    <tr>\n",
       "      <td>4</td>\n",
       "      <td>Donetsk</td>\n",
       "      <td>1990</td>\n",
       "      <td>-1.2</td>\n",
       "    </tr>\n",
       "  </tbody>\n",
       "</table>\n",
       "</div>"
      ],
      "text/plain": [
       "           region  year  rate\n",
       "0          Crimea  1990   2.5\n",
       "1       Vinnytsia  1990  -2.1\n",
       "2           Volyn  1990   4.0\n",
       "3  Dnipropetrovsk  1990   0.5\n",
       "4         Donetsk  1990  -1.2"
      ]
     },
     "execution_count": 3,
     "metadata": {},
     "output_type": "execute_result"
    }
   ],
   "source": [
    "df = pd.read_csv('https://raw.githubusercontent.com/OlexandrBratus/Introduction-to-Data-Visualization/master/Homework_2/rate.csv')\n",
    "df.head()"
   ]
  },
  {
   "cell_type": "code",
   "execution_count": 4,
   "metadata": {},
   "outputs": [],
   "source": [
    "bg_color = '#F3F7F7'\n",
    "titlecolor = '#3A3F4A'\n",
    "titlesize = 36\n",
    "textcolor = '#5D646F'\n",
    "textsize = 12\n",
    "domain = (int(np.floor(df.rate.min())), 0, int(np.ceil(df.rate.max())))\n",
    "color_scale = ('#67001f', '#f7f7f7', '#053061')\n",
    "font = 'Ubuntu Mono'\n",
    "figsize = (440, 775)\n",
    "opacity = .7"
   ]
  },
  {
   "cell_type": "code",
   "execution_count": 5,
   "metadata": {},
   "outputs": [],
   "source": [
    "xaxis = alt.Axis(values = tuple(range(1990,2016,5)),\n",
    "                 title=None,\n",
    "                 grid=False, \n",
    "                 domain=False, \n",
    "                 ticks=False,\n",
    "                 labelAngle = 0,\n",
    "                 labelColor = textcolor,\n",
    "                 labelFontSize = textsize,\n",
    "                 labelFont = font,\n",
    "                 labelPadding= -figsize[0]-15,\n",
    "                 labelAlign='center'\n",
    "                 )\n",
    "yaxis = alt.Axis(\n",
    "                 title=None,\n",
    "                 grid=False, \n",
    "                 domain=False, \n",
    "                 ticks=False,\n",
    "                 labelAngle = 0,\n",
    "                 labelColor = textcolor,\n",
    "                 labelFontSize = textsize,\n",
    "                 labelFont = font,\n",
    "                 labelPadding = -1*figsize[1]-5,\n",
    "                 labelAlign = 'left'\n",
    "                 )\n",
    "chart1 = alt.Chart(df)\n",
    "chart1 = chart1.mark_rect(opacity=opacity)\n",
    "chart1 = chart1.encode(\n",
    "    x = alt.X('year:O', axis=xaxis),\n",
    "    y = alt.Y('region:O', axis=yaxis, sort=alt.Sort(field='rate', op='mean', order='descending')),\n",
    "    color = alt.Color('rate',\n",
    "        scale=alt.Scale(domain=domain, range=color_scale),\n",
    "        legend=None\n",
    "    )\n",
    ").properties(\n",
    "    height=figsize[0], width=figsize[1]\n",
    ")\n",
    "chart1_ = chart1.configure_title(\n",
    "    color=titlecolor,\n",
    "    font=font,\n",
    "    fontSize=titlesize,\n",
    "    anchor='start'\n",
    ")\n",
    "chart1_.title = 'Population growth rate by region'"
   ]
  },
  {
   "cell_type": "code",
   "execution_count": 6,
   "metadata": {},
   "outputs": [],
   "source": [
    "legend = pd.DataFrame({'rate':range(-15,9)})\n",
    "xaxis = alt.Axis(values = [-15, -8, 0, 8],\n",
    "                 title='population growth rate, per 1000',\n",
    "                 titleFontWeight='lighter',\n",
    "                 titleFont=font,\n",
    "                 titleAnchor='start',\n",
    "                 titleY=-25,\n",
    "                 titleColor=textcolor,\n",
    "                 grid=False, \n",
    "                 domain=False, \n",
    "                 ticks=False,\n",
    "                 labelAngle = 0,\n",
    "                 labelColor = textcolor,\n",
    "                 labelFontSize = textsize,\n",
    "                 labelFont = font,\n",
    "                 labelAlign='center'\n",
    "                 )\n",
    "chart2 = alt.Chart(legend)\n",
    "chart2 = chart2.mark_rect(opacity=opacity)\n",
    "chart2 = chart2.encode(\n",
    "    x = alt.X('rate:N', axis=xaxis),\n",
    "    color = alt.Color('rate:Q', legend=None,\n",
    "        scale=alt.Scale(domain=domain, range=color_scale)\n",
    "    )\n",
    ").properties(\n",
    "    height=8, width=figsize[1]-figsize[1] // (29*2), title=''\n",
    ")"
   ]
  },
  {
   "cell_type": "code",
   "execution_count": 7,
   "metadata": {},
   "outputs": [
    {
     "data": {
      "text/html": [
       "\n",
       "<div id=\"altair-viz-1\"></div>\n",
       "<script type=\"text/javascript\">\n",
       "  (function(spec, embedOpt){\n",
       "    const outputDiv = document.getElementById(\"altair-viz-1\");\n",
       "    const paths = {\n",
       "      \"vega\": \"https://cdn.jsdelivr.net/npm//vega@5?noext\",\n",
       "      \"vega-lib\": \"https://cdn.jsdelivr.net/npm//vega-lib?noext\",\n",
       "      \"vega-lite\": \"https://cdn.jsdelivr.net/npm//vega-lite@4.0.0?noext\",\n",
       "      \"vega-embed\": \"https://cdn.jsdelivr.net/npm//vega-embed@6?noext\",\n",
       "    };\n",
       "\n",
       "    function loadScript(lib) {\n",
       "      return new Promise(function(resolve, reject) {\n",
       "        var s = document.createElement('script');\n",
       "        s.src = paths[lib];\n",
       "        s.async = true;\n",
       "        s.onload = () => resolve(paths[lib]);\n",
       "        s.onerror = () => reject(`Error loading script: ${paths[lib]}`);\n",
       "        document.getElementsByTagName(\"head\")[0].appendChild(s);\n",
       "      });\n",
       "    }\n",
       "\n",
       "    function showError(err) {\n",
       "      outputDiv.innerHTML = `<div class=\"error\" style=\"color:red;\">${err}</div>`;\n",
       "      throw err;\n",
       "    }\n",
       "\n",
       "    function displayChart(vegaEmbed) {\n",
       "      vegaEmbed(outputDiv, spec, embedOpt)\n",
       "        .catch(err => showError(`Javascript Error: ${err.message}<br>This usually means there's a typo in your chart specification. See the javascript console for the full traceback.`));\n",
       "    }\n",
       "\n",
       "    if(typeof define === \"function\" && define.amd) {\n",
       "      requirejs.config({paths});\n",
       "      require([\"vega-embed\"], displayChart, err => showError(`Error loading script: ${err.message}`));\n",
       "    } else if (typeof vegaEmbed === \"function\") {\n",
       "      displayChart(vegaEmbed);\n",
       "    } else {\n",
       "      loadScript(\"vega\")\n",
       "        .then(() => loadScript(\"vega-lite\"))\n",
       "        .then(() => loadScript(\"vega-embed\"))\n",
       "        .catch(showError)\n",
       "        .then(() => displayChart(vegaEmbed));\n",
       "    }\n",
       "  })({\"config\": {\"view\": {\"continuousWidth\": 400, \"continuousHeight\": 300, \"stroke\": null}}, \"data\": {\"name\": \"data-3a7e5648582566487e54524fc0af8139\"}, \"mark\": {\"type\": \"text\", \"align\": \"left\", \"color\": \"#5D646F\", \"font\": \"Ubuntu Mono\", \"size\": 12}, \"encoding\": {\"text\": {\"type\": \"nominal\", \"field\": \"text\"}}, \"$schema\": \"https://vega.github.io/schema/vega-lite/v4.0.0.json\", \"datasets\": {\"data-3a7e5648582566487e54524fc0af8139\": {\"text\": \"                                                                                Data : State Statistics Service of Ukraine\"}}}, {\"mode\": \"vega-lite\"});\n",
       "</script>"
      ],
      "text/plain": [
       "alt.Chart(...)"
      ]
     },
     "execution_count": 7,
     "metadata": {},
     "output_type": "execute_result"
    }
   ],
   "source": [
    "annotation = alt.Chart(\n",
    "    dict(values= dict(text=\" \"*80+\"Data : State Statistics Service of Ukraine\"))\n",
    ")\n",
    "annotation = annotation.mark_text(size=textsize, \n",
    "            color=textcolor, \n",
    "            font=font,\n",
    "            align='left',\n",
    "            )\n",
    "annotation = annotation.encode(\n",
    "    text=\"text:N\"\n",
    ")\n",
    "annotation.configure_view(\n",
    "    stroke=None\n",
    ")"
   ]
  },
  {
   "cell_type": "code",
   "execution_count": 8,
   "metadata": {},
   "outputs": [
    {
     "data": {
      "text/html": [
       "\n",
       "<div id=\"altair-viz-2\"></div>\n",
       "<script type=\"text/javascript\">\n",
       "  (function(spec, embedOpt){\n",
       "    const outputDiv = document.getElementById(\"altair-viz-2\");\n",
       "    const paths = {\n",
       "      \"vega\": \"https://cdn.jsdelivr.net/npm//vega@5?noext\",\n",
       "      \"vega-lib\": \"https://cdn.jsdelivr.net/npm//vega-lib?noext\",\n",
       "      \"vega-lite\": \"https://cdn.jsdelivr.net/npm//vega-lite@4.0.0?noext\",\n",
       "      \"vega-embed\": \"https://cdn.jsdelivr.net/npm//vega-embed@6?noext\",\n",
       "    };\n",
       "\n",
       "    function loadScript(lib) {\n",
       "      return new Promise(function(resolve, reject) {\n",
       "        var s = document.createElement('script');\n",
       "        s.src = paths[lib];\n",
       "        s.async = true;\n",
       "        s.onload = () => resolve(paths[lib]);\n",
       "        s.onerror = () => reject(`Error loading script: ${paths[lib]}`);\n",
       "        document.getElementsByTagName(\"head\")[0].appendChild(s);\n",
       "      });\n",
       "    }\n",
       "\n",
       "    function showError(err) {\n",
       "      outputDiv.innerHTML = `<div class=\"error\" style=\"color:red;\">${err}</div>`;\n",
       "      throw err;\n",
       "    }\n",
       "\n",
       "    function displayChart(vegaEmbed) {\n",
       "      vegaEmbed(outputDiv, spec, embedOpt)\n",
       "        .catch(err => showError(`Javascript Error: ${err.message}<br>This usually means there's a typo in your chart specification. See the javascript console for the full traceback.`));\n",
       "    }\n",
       "\n",
       "    if(typeof define === \"function\" && define.amd) {\n",
       "      requirejs.config({paths});\n",
       "      require([\"vega-embed\"], displayChart, err => showError(`Error loading script: ${err.message}`));\n",
       "    } else if (typeof vegaEmbed === \"function\") {\n",
       "      displayChart(vegaEmbed);\n",
       "    } else {\n",
       "      loadScript(\"vega\")\n",
       "        .then(() => loadScript(\"vega-lite\"))\n",
       "        .then(() => loadScript(\"vega-embed\"))\n",
       "        .catch(showError)\n",
       "        .then(() => displayChart(vegaEmbed));\n",
       "    }\n",
       "  })({\"config\": {\"view\": {\"continuousWidth\": 400, \"continuousHeight\": 300, \"stroke\": null}, \"title\": {\"anchor\": \"start\", \"color\": \"#3A3F4A\", \"font\": \"Ubuntu Mono\", \"fontSize\": 36}}, \"vconcat\": [{\"data\": {\"name\": \"data-05d4a6ef4c89991e31f386c79967b797\"}, \"mark\": {\"type\": \"rect\", \"opacity\": 0.7}, \"encoding\": {\"color\": {\"type\": \"quantitative\", \"field\": \"rate\", \"legend\": null, \"scale\": {\"domain\": [-15, 0, 8], \"range\": [\"#67001f\", \"#f7f7f7\", \"#053061\"]}}, \"x\": {\"type\": \"nominal\", \"axis\": {\"domain\": false, \"grid\": false, \"labelAlign\": \"center\", \"labelAngle\": 0, \"labelColor\": \"#5D646F\", \"labelFont\": \"Ubuntu Mono\", \"labelFontSize\": 12, \"ticks\": false, \"title\": \"population growth rate, per 1000\", \"titleAnchor\": \"start\", \"titleColor\": \"#5D646F\", \"titleFont\": \"Ubuntu Mono\", \"titleFontWeight\": \"lighter\", \"titleY\": -25, \"values\": [-15, -8, 0, 8]}, \"field\": \"rate\"}}, \"height\": 8, \"title\": \"\", \"width\": 762}, {\"data\": {\"name\": \"data-49387c7f8ca2f04ed173ccbbec0aa09c\"}, \"mark\": {\"type\": \"rect\", \"opacity\": 0.7}, \"encoding\": {\"color\": {\"type\": \"quantitative\", \"field\": \"rate\", \"legend\": null, \"scale\": {\"domain\": [-15, 0, 8], \"range\": [\"#67001f\", \"#f7f7f7\", \"#053061\"]}}, \"x\": {\"type\": \"ordinal\", \"axis\": {\"domain\": false, \"grid\": false, \"labelAlign\": \"center\", \"labelAngle\": 0, \"labelColor\": \"#5D646F\", \"labelFont\": \"Ubuntu Mono\", \"labelFontSize\": 12, \"labelPadding\": -455, \"ticks\": false, \"title\": null, \"values\": [1990, 1995, 2000, 2005, 2010, 2015]}, \"field\": \"year\"}, \"y\": {\"type\": \"ordinal\", \"axis\": {\"domain\": false, \"grid\": false, \"labelAlign\": \"left\", \"labelAngle\": 0, \"labelColor\": \"#5D646F\", \"labelFont\": \"Ubuntu Mono\", \"labelFontSize\": 12, \"labelPadding\": -780, \"ticks\": false, \"title\": null}, \"field\": \"region\", \"sort\": {\"field\": \"rate\", \"op\": \"mean\", \"order\": \"descending\"}}}, \"height\": 440, \"width\": 775}, {\"data\": {\"name\": \"data-3a7e5648582566487e54524fc0af8139\"}, \"mark\": {\"type\": \"text\", \"align\": \"left\", \"color\": \"#5D646F\", \"font\": \"Ubuntu Mono\", \"size\": 12}, \"encoding\": {\"text\": {\"type\": \"nominal\", \"field\": \"text\"}}}], \"background\": \"#F3F7F7\", \"padding\": {\"left\": 50, \"top\": 40, \"right\": 40, \"bottom\": 50}, \"title\": \"Population growth rate by region\", \"$schema\": \"https://vega.github.io/schema/vega-lite/v4.0.0.json\", \"datasets\": {\"data-05d4a6ef4c89991e31f386c79967b797\": [{\"rate\": -15}, {\"rate\": -14}, {\"rate\": -13}, {\"rate\": -12}, {\"rate\": -11}, {\"rate\": -10}, {\"rate\": -9}, {\"rate\": -8}, {\"rate\": -7}, {\"rate\": -6}, {\"rate\": -5}, {\"rate\": -4}, {\"rate\": -3}, {\"rate\": -2}, {\"rate\": -1}, {\"rate\": 0}, {\"rate\": 1}, {\"rate\": 2}, {\"rate\": 3}, {\"rate\": 4}, {\"rate\": 5}, {\"rate\": 6}, {\"rate\": 7}, {\"rate\": 8}], \"data-49387c7f8ca2f04ed173ccbbec0aa09c\": [{\"region\": \"Crimea\", \"year\": 1990, \"rate\": 2.5}, {\"region\": \"Vinnytsia\", \"year\": 1990, \"rate\": -2.1}, {\"region\": \"Volyn\", \"year\": 1990, \"rate\": 4.0}, {\"region\": \"Dnipropetrovsk\", \"year\": 1990, \"rate\": 0.5}, {\"region\": \"Donetsk\", \"year\": 1990, \"rate\": -1.2}, {\"region\": \"Zhytomyr\", \"year\": 1990, \"rate\": -0.3}, {\"region\": \"Zakarpattia\", \"year\": 1990, \"rate\": 7.5}, {\"region\": \"Zaporizhia\", \"year\": 1990, \"rate\": 0.5}, {\"region\": \"Ivano-Frankivsk\", \"year\": 1990, \"rate\": 5.1}, {\"region\": \"Kyiv\", \"year\": 1990, \"rate\": -0.7}, {\"region\": \"Kirovohrad\", \"year\": 1990, \"rate\": -1.9}, {\"region\": \"Luhansk\", \"year\": 1990, \"rate\": -0.6}, {\"region\": \"Lviv\", \"year\": 1990, \"rate\": 3.6}, {\"region\": \"Mykolaiv\", \"year\": 1990, \"rate\": 1.7}, {\"region\": \"Odesa\", \"year\": 1990, \"rate\": 0.2}, {\"region\": \"Poltava\", \"year\": 1990, \"rate\": -2.5}, {\"region\": \"Rivne\", \"year\": 1990, \"rate\": 5.2}, {\"region\": \"Sumy\", \"year\": 1990, \"rate\": -3.1}, {\"region\": \"Ternopil\", \"year\": 1990, \"rate\": 1.4}, {\"region\": \"Kharkiv\", \"year\": 1990, \"rate\": -1.4}, {\"region\": \"Kherson\", \"year\": 1990, \"rate\": 2.7}, {\"region\": \"Khmelnytskyi\", \"year\": 1990, \"rate\": -0.6}, {\"region\": \"Cherkasy\", \"year\": 1990, \"rate\": -2.1}, {\"region\": \"Chernivtsi\", \"year\": 1990, \"rate\": 3.8}, {\"region\": \"Chernihiv\", \"year\": 1990, \"rate\": -4.0}, {\"region\": \"Kyiv city\", \"year\": 1990, \"rate\": 3.4}, {\"region\": \"Sevastopol\", \"year\": 1990, \"rate\": 3.2}, {\"region\": \"Crimea\", \"year\": 1991, \"rate\": 0.9}, {\"region\": \"Vinnytsia\", \"year\": 1991, \"rate\": -3.2}, {\"region\": \"Volyn\", \"year\": 1991, \"rate\": 2.0}, {\"region\": \"Dnipropetrovsk\", \"year\": 1991, \"rate\": -0.8}, {\"region\": \"Donetsk\", \"year\": 1991, \"rate\": -2.5}, {\"region\": \"Zhytomyr\", \"year\": 1991, \"rate\": -1.0}, {\"region\": \"Zakarpattia\", \"year\": 1991, \"rate\": 6.4}, {\"region\": \"Zaporizhia\", \"year\": 1991, \"rate\": -0.7}, {\"region\": \"Ivano-Frankivsk\", \"year\": 1991, \"rate\": 3.7}, {\"region\": \"Kyiv\", \"year\": 1991, \"rate\": -2.4}, {\"region\": \"Kirovohrad\", \"year\": 1991, \"rate\": -2.8}, {\"region\": \"Luhansk\", \"year\": 1991, \"rate\": -1.7}, {\"region\": \"Lviv\", \"year\": 1991, \"rate\": 2.4}, {\"region\": \"Mykolaiv\", \"year\": 1991, \"rate\": 0.2}, {\"region\": \"Odesa\", \"year\": 1991, \"rate\": -1.2}, {\"region\": \"Poltava\", \"year\": 1991, \"rate\": -3.4}, {\"region\": \"Rivne\", \"year\": 1991, \"rate\": 3.9}, {\"region\": \"Sumy\", \"year\": 1991, \"rate\": -4.0}, {\"region\": \"Ternopil\", \"year\": 1991, \"rate\": 0.4}, {\"region\": \"Kharkiv\", \"year\": 1991, \"rate\": -2.9}, {\"region\": \"Kherson\", \"year\": 1991, \"rate\": 1.5}, {\"region\": \"Khmelnytskyi\", \"year\": 1991, \"rate\": -1.7}, {\"region\": \"Cherkasy\", \"year\": 1991, \"rate\": -3.3}, {\"region\": \"Chernivtsi\", \"year\": 1991, \"rate\": 2.9}, {\"region\": \"Chernihiv\", \"year\": 1991, \"rate\": -5.7}, {\"region\": \"Kyiv city\", \"year\": 1991, \"rate\": 1.8}, {\"region\": \"Sevastopol\", \"year\": 1991, \"rate\": 1.7}, {\"region\": \"Crimea\", \"year\": 1992, \"rate\": -0.7}, {\"region\": \"Vinnytsia\", \"year\": 1992, \"rate\": -3.7}, {\"region\": \"Volyn\", \"year\": 1992, \"rate\": 2.4}, {\"region\": \"Dnipropetrovsk\", \"year\": 1992, \"rate\": -2.7}, {\"region\": \"Donetsk\", \"year\": 1992, \"rate\": -4.3}, {\"region\": \"Zhytomyr\", \"year\": 1992, \"rate\": -1.7}, {\"region\": \"Zakarpattia\", \"year\": 1992, \"rate\": 5.8}, {\"region\": \"Zaporizhia\", \"year\": 1992, \"rate\": -2.5}, {\"region\": \"Ivano-Frankivsk\", \"year\": 1992, \"rate\": 3.1}, {\"region\": \"Kyiv\", \"year\": 1992, \"rate\": -3.4}, {\"region\": \"Kirovohrad\", \"year\": 1992, \"rate\": -3.8}, {\"region\": \"Luhansk\", \"year\": 1992, \"rate\": -4.0}, {\"region\": \"Lviv\", \"year\": 1992, \"rate\": 2.0}, {\"region\": \"Mykolaiv\", \"year\": 1992, \"rate\": -0.8}, {\"region\": \"Odesa\", \"year\": 1992, \"rate\": -1.9}, {\"region\": \"Poltava\", \"year\": 1992, \"rate\": -4.9}, {\"region\": \"Rivne\", \"year\": 1992, \"rate\": 3.5}, {\"region\": \"Sumy\", \"year\": 1992, \"rate\": -5.3}, {\"region\": \"Ternopil\", \"year\": 1992, \"rate\": -0.1}, {\"region\": \"Kharkiv\", \"year\": 1992, \"rate\": -4.1}, {\"region\": \"Kherson\", \"year\": 1992, \"rate\": 0.5}, {\"region\": \"Khmelnytskyi\", \"year\": 1992, \"rate\": -2.2}, {\"region\": \"Cherkasy\", \"year\": 1992, \"rate\": -4.1}, {\"region\": \"Chernivtsi\", \"year\": 1992, \"rate\": 2.0}, {\"region\": \"Chernihiv\", \"year\": 1992, \"rate\": -6.7}, {\"region\": \"Kyiv city\", \"year\": 1992, \"rate\": 0.2}, {\"region\": \"Sevastopol\", \"year\": 1992, \"rate\": -0.7}, {\"region\": \"Crimea\", \"year\": 1993, \"rate\": -2.7}, {\"region\": \"Vinnytsia\", \"year\": 1993, \"rate\": -5.4}, {\"region\": \"Volyn\", \"year\": 1993, \"rate\": 1.4}, {\"region\": \"Dnipropetrovsk\", \"year\": 1993, \"rate\": -4.4}, {\"region\": \"Donetsk\", \"year\": 1993, \"rate\": -6.2}, {\"region\": \"Zhytomyr\", \"year\": 1993, \"rate\": -2.8}, {\"region\": \"Zakarpattia\", \"year\": 1993, \"rate\": 4.4}, {\"region\": \"Zaporizhia\", \"year\": 1993, \"rate\": -4.1}, {\"region\": \"Ivano-Frankivsk\", \"year\": 1993, \"rate\": 2.4}, {\"region\": \"Kyiv\", \"year\": 1993, \"rate\": -5.1}, {\"region\": \"Kirovohrad\", \"year\": 1993, \"rate\": -5.6}, {\"region\": \"Luhansk\", \"year\": 1993, \"rate\": -5.9}, {\"region\": \"Lviv\", \"year\": 1993, \"rate\": 1.1}, {\"region\": \"Mykolaiv\", \"year\": 1993, \"rate\": -2.4}, {\"region\": \"Odesa\", \"year\": 1993, \"rate\": -3.2}, {\"region\": \"Poltava\", \"year\": 1993, \"rate\": -6.7}, {\"region\": \"Rivne\", \"year\": 1993, \"rate\": 3.1}, {\"region\": \"Sumy\", \"year\": 1993, \"rate\": -7.5}, {\"region\": \"Ternopil\", \"year\": 1993, \"rate\": -1.2}, {\"region\": \"Kharkiv\", \"year\": 1993, \"rate\": -6.2}, {\"region\": \"Kherson\", \"year\": 1993, \"rate\": -1.2}, {\"region\": \"Khmelnytskyi\", \"year\": 1993, \"rate\": -3.6}, {\"region\": \"Cherkasy\", \"year\": 1993, \"rate\": -6.2}, {\"region\": \"Chernivtsi\", \"year\": 1993, \"rate\": 0.9}, {\"region\": \"Chernihiv\", \"year\": 1993, \"rate\": -8.5}, {\"region\": \"Kyiv city\", \"year\": 1993, \"rate\": -1.7}, {\"region\": \"Sevastopol\", \"year\": 1993, \"rate\": -2.7}, {\"region\": \"Crimea\", \"year\": 1994, \"rate\": -4.3}, {\"region\": \"Vinnytsia\", \"year\": 1994, \"rate\": -6.2}, {\"region\": \"Volyn\", \"year\": 1994, \"rate\": 0.2}, {\"region\": \"Dnipropetrovsk\", \"year\": 1994, \"rate\": -5.8}, {\"region\": \"Donetsk\", \"year\": 1994, \"rate\": -7.5}, {\"region\": \"Zhytomyr\", \"year\": 1994, \"rate\": -4.0}, {\"region\": \"Zakarpattia\", \"year\": 1994, \"rate\": 2.9}, {\"region\": \"Zaporizhia\", \"year\": 1994, \"rate\": -5.2}, {\"region\": \"Ivano-Frankivsk\", \"year\": 1994, \"rate\": 1.5}, {\"region\": \"Kyiv\", \"year\": 1994, \"rate\": -5.9}, {\"region\": \"Kirovohrad\", \"year\": 1994, \"rate\": -6.4}, {\"region\": \"Luhansk\", \"year\": 1994, \"rate\": -7.5}, {\"region\": \"Lviv\", \"year\": 1994, \"rate\": 0.0}, {\"region\": \"Mykolaiv\", \"year\": 1994, \"rate\": -3.7}, {\"region\": \"Odesa\", \"year\": 1994, \"rate\": -4.7}, {\"region\": \"Poltava\", \"year\": 1994, \"rate\": -7.6}, {\"region\": \"Rivne\", \"year\": 1994, \"rate\": 2.1}, {\"region\": \"Sumy\", \"year\": 1994, \"rate\": -8.1}, {\"region\": \"Ternopil\", \"year\": 1994, \"rate\": -1.7}, {\"region\": \"Kharkiv\", \"year\": 1994, \"rate\": -7.6}, {\"region\": \"Kherson\", \"year\": 1994, \"rate\": -2.7}, {\"region\": \"Khmelnytskyi\", \"year\": 1994, \"rate\": -4.4}, {\"region\": \"Cherkasy\", \"year\": 1994, \"rate\": -6.7}, {\"region\": \"Chernivtsi\", \"year\": 1994, \"rate\": 0.3}, {\"region\": \"Chernihiv\", \"year\": 1994, \"rate\": -9.9}, {\"region\": \"Kyiv city\", \"year\": 1994, \"rate\": -2.7}, {\"region\": \"Sevastopol\", \"year\": 1994, \"rate\": -4.4}, {\"region\": \"Crimea\", \"year\": 1995, \"rate\": -5.8}, {\"region\": \"Vinnytsia\", \"year\": 1995, \"rate\": -6.7}, {\"region\": \"Volyn\", \"year\": 1995, \"rate\": -1.1}, {\"region\": \"Dnipropetrovsk\", \"year\": 1995, \"rate\": -7.2}, {\"region\": \"Donetsk\", \"year\": 1995, \"rate\": -9.7}, {\"region\": \"Zhytomyr\", \"year\": 1995, \"rate\": -4.9}, {\"region\": \"Zakarpattia\", \"year\": 1995, \"rate\": 1.8}, {\"region\": \"Zaporizhia\", \"year\": 1995, \"rate\": -6.9}, {\"region\": \"Ivano-Frankivsk\", \"year\": 1995, \"rate\": 0.8}, {\"region\": \"Kyiv\", \"year\": 1995, \"rate\": -6.9}, {\"region\": \"Kirovohrad\", \"year\": 1995, \"rate\": -7.7}, {\"region\": \"Luhansk\", \"year\": 1995, \"rate\": -9.0}, {\"region\": \"Lviv\", \"year\": 1995, \"rate\": -0.8}, {\"region\": \"Mykolaiv\", \"year\": 1995, \"rate\": -4.9}, {\"region\": \"Odesa\", \"year\": 1995, \"rate\": -6.1}, {\"region\": \"Poltava\", \"year\": 1995, \"rate\": -8.1}, {\"region\": \"Rivne\", \"year\": 1995, \"rate\": 1.0}, {\"region\": \"Sumy\", \"year\": 1995, \"rate\": -8.2}, {\"region\": \"Ternopil\", \"year\": 1995, \"rate\": -1.7}, {\"region\": \"Kharkiv\", \"year\": 1995, \"rate\": -8.5}, {\"region\": \"Kherson\", \"year\": 1995, \"rate\": -4.3}, {\"region\": \"Khmelnytskyi\", \"year\": 1995, \"rate\": -4.8}, {\"region\": \"Cherkasy\", \"year\": 1995, \"rate\": -7.5}, {\"region\": \"Chernivtsi\", \"year\": 1995, \"rate\": -0.3}, {\"region\": \"Chernihiv\", \"year\": 1995, \"rate\": -10.7}, {\"region\": \"Kyiv city\", \"year\": 1995, \"rate\": -3.5}, {\"region\": \"Sevastopol\", \"year\": 1995, \"rate\": -6.9}, {\"region\": \"Crimea\", \"year\": 1996, \"rate\": -5.8}, {\"region\": \"Vinnytsia\", \"year\": 1996, \"rate\": -7.0}, {\"region\": \"Volyn\", \"year\": 1996, \"rate\": -1.0}, {\"region\": \"Dnipropetrovsk\", \"year\": 1996, \"rate\": -7.8}, {\"region\": \"Donetsk\", \"year\": 1996, \"rate\": -9.8}, {\"region\": \"Zhytomyr\", \"year\": 1996, \"rate\": -5.4}, {\"region\": \"Zakarpattia\", \"year\": 1996, \"rate\": 1.7}, {\"region\": \"Zaporizhia\", \"year\": 1996, \"rate\": -7.0}, {\"region\": \"Ivano-Frankivsk\", \"year\": 1996, \"rate\": 0.3}, {\"region\": \"Kyiv\", \"year\": 1996, \"rate\": -6.9}, {\"region\": \"Kirovohrad\", \"year\": 1996, \"rate\": -8.0}, {\"region\": \"Luhansk\", \"year\": 1996, \"rate\": -10.1}, {\"region\": \"Lviv\", \"year\": 1996, \"rate\": -1.1}, {\"region\": \"Mykolaiv\", \"year\": 1996, \"rate\": -5.5}, {\"region\": \"Odesa\", \"year\": 1996, \"rate\": -6.1}, {\"region\": \"Poltava\", \"year\": 1996, \"rate\": -8.3}, {\"region\": \"Rivne\", \"year\": 1996, \"rate\": 0.4}, {\"region\": \"Sumy\", \"year\": 1996, \"rate\": -9.1}, {\"region\": \"Ternopil\", \"year\": 1996, \"rate\": -2.4}, {\"region\": \"Kharkiv\", \"year\": 1996, \"rate\": -8.3}, {\"region\": \"Kherson\", \"year\": 1996, \"rate\": -5.0}, {\"region\": \"Khmelnytskyi\", \"year\": 1996, \"rate\": -5.3}, {\"region\": \"Cherkasy\", \"year\": 1996, \"rate\": -8.0}, {\"region\": \"Chernivtsi\", \"year\": 1996, \"rate\": -0.7}, {\"region\": \"Chernihiv\", \"year\": 1996, \"rate\": -10.6}, {\"region\": \"Kyiv city\", \"year\": 1996, \"rate\": -3.2}, {\"region\": \"Sevastopol\", \"year\": 1996, \"rate\": -5.6}, {\"region\": \"Crimea\", \"year\": 1997, \"rate\": -5.1}, {\"region\": \"Vinnytsia\", \"year\": 1997, \"rate\": -7.0}, {\"region\": \"Volyn\", \"year\": 1997, \"rate\": -1.5}, {\"region\": \"Dnipropetrovsk\", \"year\": 1997, \"rate\": -7.9}, {\"region\": \"Donetsk\", \"year\": 1997, \"rate\": -9.6}, {\"region\": \"Zhytomyr\", \"year\": 1997, \"rate\": -5.9}, {\"region\": \"Zakarpattia\", \"year\": 1997, \"rate\": 1.4}, {\"region\": \"Zaporizhia\", \"year\": 1997, \"rate\": -6.9}, {\"region\": \"Ivano-Frankivsk\", \"year\": 1997, \"rate\": -0.3}, {\"region\": \"Kyiv\", \"year\": 1997, \"rate\": -7.2}, {\"region\": \"Kirovohrad\", \"year\": 1997, \"rate\": -8.5}, {\"region\": \"Luhansk\", \"year\": 1997, \"rate\": -10.0}, {\"region\": \"Lviv\", \"year\": 1997, \"rate\": -1.9}, {\"region\": \"Mykolaiv\", \"year\": 1997, \"rate\": -5.6}, {\"region\": \"Odesa\", \"year\": 1997, \"rate\": -5.8}, {\"region\": \"Poltava\", \"year\": 1997, \"rate\": -9.1}, {\"region\": \"Rivne\", \"year\": 1997, \"rate\": 0.7}, {\"region\": \"Sumy\", \"year\": 1997, \"rate\": -9.4}, {\"region\": \"Ternopil\", \"year\": 1997, \"rate\": -3.3}, {\"region\": \"Kharkiv\", \"year\": 1997, \"rate\": -8.4}, {\"region\": \"Kherson\", \"year\": 1997, \"rate\": -4.6}, {\"region\": \"Khmelnytskyi\", \"year\": 1997, \"rate\": -6.2}, {\"region\": \"Cherkasy\", \"year\": 1997, \"rate\": -8.1}, {\"region\": \"Chernivtsi\", \"year\": 1997, \"rate\": -1.1}, {\"region\": \"Chernihiv\", \"year\": 1997, \"rate\": -10.7}, {\"region\": \"Kyiv city\", \"year\": 1997, \"rate\": -2.5}, {\"region\": \"Sevastopol\", \"year\": 1997, \"rate\": -4.8}, {\"region\": \"Crimea\", \"year\": 1998, \"rate\": -5.6}, {\"region\": \"Vinnytsia\", \"year\": 1998, \"rate\": -7.3}, {\"region\": \"Volyn\", \"year\": 1998, \"rate\": -1.3}, {\"region\": \"Dnipropetrovsk\", \"year\": 1998, \"rate\": -7.4}, {\"region\": \"Donetsk\", \"year\": 1998, \"rate\": -8.7}, {\"region\": \"Zhytomyr\", \"year\": 1998, \"rate\": -5.9}, {\"region\": \"Zakarpattia\", \"year\": 1998, \"rate\": 1.2}, {\"region\": \"Zaporizhia\", \"year\": 1998, \"rate\": -7.2}, {\"region\": \"Ivano-Frankivsk\", \"year\": 1998, \"rate\": -0.5}, {\"region\": \"Kyiv\", \"year\": 1998, \"rate\": -7.6}, {\"region\": \"Kirovohrad\", \"year\": 1998, \"rate\": -8.3}, {\"region\": \"Luhansk\", \"year\": 1998, \"rate\": -9.0}, {\"region\": \"Lviv\", \"year\": 1998, \"rate\": -1.5}, {\"region\": \"Mykolaiv\", \"year\": 1998, \"rate\": -6.4}, {\"region\": \"Odesa\", \"year\": 1998, \"rate\": -5.8}, {\"region\": \"Poltava\", \"year\": 1998, \"rate\": -8.4}, {\"region\": \"Rivne\", \"year\": 1998, \"rate\": 0.4}, {\"region\": \"Sumy\", \"year\": 1998, \"rate\": -9.2}, {\"region\": \"Ternopil\", \"year\": 1998, \"rate\": -3.0}, {\"region\": \"Kharkiv\", \"year\": 1998, \"rate\": -7.8}, {\"region\": \"Kherson\", \"year\": 1998, \"rate\": -5.3}, {\"region\": \"Khmelnytskyi\", \"year\": 1998, \"rate\": -6.0}, {\"region\": \"Cherkasy\", \"year\": 1998, \"rate\": -8.3}, {\"region\": \"Chernivtsi\", \"year\": 1998, \"rate\": -0.9}, {\"region\": \"Chernihiv\", \"year\": 1998, \"rate\": -10.8}, {\"region\": \"Kyiv city\", \"year\": 1998, \"rate\": -2.8}, {\"region\": \"Sevastopol\", \"year\": 1998, \"rate\": -5.5}, {\"region\": \"Crimea\", \"year\": 1999, \"rate\": -5.5}, {\"region\": \"Vinnytsia\", \"year\": 1999, \"rate\": -7.7}, {\"region\": \"Volyn\", \"year\": 1999, \"rate\": -2.7}, {\"region\": \"Dnipropetrovsk\", \"year\": 1999, \"rate\": -8.6}, {\"region\": \"Donetsk\", \"year\": 1999, \"rate\": -9.9}, {\"region\": \"Zhytomyr\", \"year\": 1999, \"rate\": -7.3}, {\"region\": \"Zakarpattia\", \"year\": 1999, \"rate\": -0.3}, {\"region\": \"Zaporizhia\", \"year\": 1999, \"rate\": -8.1}, {\"region\": \"Ivano-Frankivsk\", \"year\": 1999, \"rate\": -2.0}, {\"region\": \"Kyiv\", \"year\": 1999, \"rate\": -8.5}, {\"region\": \"Kirovohrad\", \"year\": 1999, \"rate\": -9.7}, {\"region\": \"Luhansk\", \"year\": 1999, \"rate\": -10.7}, {\"region\": \"Lviv\", \"year\": 1999, \"rate\": -3.3}, {\"region\": \"Mykolaiv\", \"year\": 1999, \"rate\": -7.0}, {\"region\": \"Odesa\", \"year\": 1999, \"rate\": -6.4}, {\"region\": \"Poltava\", \"year\": 1999, \"rate\": -9.9}, {\"region\": \"Rivne\", \"year\": 1999, \"rate\": -0.7}, {\"region\": \"Sumy\", \"year\": 1999, \"rate\": -10.3}, {\"region\": \"Ternopil\", \"year\": 1999, \"rate\": -4.7}, {\"region\": \"Kharkiv\", \"year\": 1999, \"rate\": -8.9}, {\"region\": \"Kherson\", \"year\": 1999, \"rate\": -6.3}, {\"region\": \"Khmelnytskyi\", \"year\": 1999, \"rate\": -6.5}, {\"region\": \"Cherkasy\", \"year\": 1999, \"rate\": -8.8}, {\"region\": \"Chernivtsi\", \"year\": 1999, \"rate\": -2.2}, {\"region\": \"Chernihiv\", \"year\": 1999, \"rate\": -12.2}, {\"region\": \"Kyiv city\", \"year\": 1999, \"rate\": -2.9}, {\"region\": \"Sevastopol\", \"year\": 1999, \"rate\": -5.6}, {\"region\": \"Crimea\", \"year\": 2000, \"rate\": -6.6}, {\"region\": \"Vinnytsia\", \"year\": 2000, \"rate\": -8.4}, {\"region\": \"Volyn\", \"year\": 2000, \"rate\": -2.8}, {\"region\": \"Dnipropetrovsk\", \"year\": 2000, \"rate\": -9.2}, {\"region\": \"Donetsk\", \"year\": 2000, \"rate\": -10.9}, {\"region\": \"Zhytomyr\", \"year\": 2000, \"rate\": -7.5}, {\"region\": \"Zakarpattia\", \"year\": 2000, \"rate\": 0.4}, {\"region\": \"Zaporizhia\", \"year\": 2000, \"rate\": -8.7}, {\"region\": \"Ivano-Frankivsk\", \"year\": 2000, \"rate\": -1.8}, {\"region\": \"Kyiv\", \"year\": 2000, \"rate\": -8.9}, {\"region\": \"Kirovohrad\", \"year\": 2000, \"rate\": -10.1}, {\"region\": \"Luhansk\", \"year\": 2000, \"rate\": -11.4}, {\"region\": \"Lviv\", \"year\": 2000, \"rate\": -3.3}, {\"region\": \"Mykolaiv\", \"year\": 2000, \"rate\": -7.7}, {\"region\": \"Odesa\", \"year\": 2000, \"rate\": -7.2}, {\"region\": \"Poltava\", \"year\": 2000, \"rate\": -10.9}, {\"region\": \"Rivne\", \"year\": 2000, \"rate\": -1.3}, {\"region\": \"Sumy\", \"year\": 2000, \"rate\": -11.1}, {\"region\": \"Ternopil\", \"year\": 2000, \"rate\": -4.4}, {\"region\": \"Kharkiv\", \"year\": 2000, \"rate\": -9.6}, {\"region\": \"Kherson\", \"year\": 2000, \"rate\": -7.0}, {\"region\": \"Khmelnytskyi\", \"year\": 2000, \"rate\": -7.1}, {\"region\": \"Cherkasy\", \"year\": 2000, \"rate\": -9.9}, {\"region\": \"Chernivtsi\", \"year\": 2000, \"rate\": -2.4}, {\"region\": \"Chernihiv\", \"year\": 2000, \"rate\": -12.9}, {\"region\": \"Kyiv city\", \"year\": 2000, \"rate\": -2.9}, {\"region\": \"Sevastopol\", \"year\": 2000, \"rate\": -6.3}, {\"region\": \"Crimea\", \"year\": 2001, \"rate\": -6.7}, {\"region\": \"Vinnytsia\", \"year\": 2001, \"rate\": -8.3}, {\"region\": \"Volyn\", \"year\": 2001, \"rate\": -3.1}, {\"region\": \"Dnipropetrovsk\", \"year\": 2001, \"rate\": -8.8}, {\"region\": \"Donetsk\", \"year\": 2001, \"rate\": -10.3}, {\"region\": \"Zhytomyr\", \"year\": 2001, \"rate\": -8.5}, {\"region\": \"Zakarpattia\", \"year\": 2001, \"rate\": -0.4}, {\"region\": \"Zaporizhia\", \"year\": 2001, \"rate\": -8.6}, {\"region\": \"Ivano-Frankivsk\", \"year\": 2001, \"rate\": -2.7}, {\"region\": \"Kyiv\", \"year\": 2001, \"rate\": -9.4}, {\"region\": \"Kirovohrad\", \"year\": 2001, \"rate\": -9.8}, {\"region\": \"Luhansk\", \"year\": 2001, \"rate\": -10.9}, {\"region\": \"Lviv\", \"year\": 2001, \"rate\": -3.7}, {\"region\": \"Mykolaiv\", \"year\": 2001, \"rate\": -7.5}, {\"region\": \"Odesa\", \"year\": 2001, \"rate\": -7.0}, {\"region\": \"Poltava\", \"year\": 2001, \"rate\": -11.1}, {\"region\": \"Rivne\", \"year\": 2001, \"rate\": -1.6}, {\"region\": \"Sumy\", \"year\": 2001, \"rate\": -11.2}, {\"region\": \"Ternopil\", \"year\": 2001, \"rate\": -5.4}, {\"region\": \"Kharkiv\", \"year\": 2001, \"rate\": -9.0}, {\"region\": \"Kherson\", \"year\": 2001, \"rate\": -7.3}, {\"region\": \"Khmelnytskyi\", \"year\": 2001, \"rate\": -7.7}, {\"region\": \"Cherkasy\", \"year\": 2001, \"rate\": -10.0}, {\"region\": \"Chernivtsi\", \"year\": 2001, \"rate\": -2.9}, {\"region\": \"Chernihiv\", \"year\": 2001, \"rate\": -13.1}, {\"region\": \"Kyiv city\", \"year\": 2001, \"rate\": -3.0}, {\"region\": \"Sevastopol\", \"year\": 2001, \"rate\": -6.1}, {\"region\": \"Crimea\", \"year\": 2002, \"rate\": -6.7}, {\"region\": \"Vinnytsia\", \"year\": 2002, \"rate\": -8.1}, {\"region\": \"Volyn\", \"year\": 2002, \"rate\": -3.0}, {\"region\": \"Dnipropetrovsk\", \"year\": 2002, \"rate\": -8.6}, {\"region\": \"Donetsk\", \"year\": 2002, \"rate\": -10.6}, {\"region\": \"Zhytomyr\", \"year\": 2002, \"rate\": -8.2}, {\"region\": \"Zakarpattia\", \"year\": 2002, \"rate\": -0.6}, {\"region\": \"Zaporizhia\", \"year\": 2002, \"rate\": -8.4}, {\"region\": \"Ivano-Frankivsk\", \"year\": 2002, \"rate\": -2.8}, {\"region\": \"Kyiv\", \"year\": 2002, \"rate\": -9.0}, {\"region\": \"Kirovohrad\", \"year\": 2002, \"rate\": -10.0}, {\"region\": \"Luhansk\", \"year\": 2002, \"rate\": -10.6}, {\"region\": \"Lviv\", \"year\": 2002, \"rate\": -3.8}, {\"region\": \"Mykolaiv\", \"year\": 2002, \"rate\": -8.1}, {\"region\": \"Odesa\", \"year\": 2002, \"rate\": -7.2}, {\"region\": \"Poltava\", \"year\": 2002, \"rate\": -11.0}, {\"region\": \"Rivne\", \"year\": 2002, \"rate\": -1.8}, {\"region\": \"Sumy\", \"year\": 2002, \"rate\": -11.3}, {\"region\": \"Ternopil\", \"year\": 2002, \"rate\": -5.2}, {\"region\": \"Kharkiv\", \"year\": 2002, \"rate\": -8.9}, {\"region\": \"Kherson\", \"year\": 2002, \"rate\": -7.3}, {\"region\": \"Khmelnytskyi\", \"year\": 2002, \"rate\": -7.7}, {\"region\": \"Cherkasy\", \"year\": 2002, \"rate\": -10.2}, {\"region\": \"Chernivtsi\", \"year\": 2002, \"rate\": -3.3}, {\"region\": \"Chernihiv\", \"year\": 2002, \"rate\": -13.0}, {\"region\": \"Kyiv city\", \"year\": 2002, \"rate\": -2.5}, {\"region\": \"Sevastopol\", \"year\": 2002, \"rate\": -5.6}, {\"region\": \"Crimea\", \"year\": 2003, \"rate\": -6.5}, {\"region\": \"Vinnytsia\", \"year\": 2003, \"rate\": -8.5}, {\"region\": \"Volyn\", \"year\": 2003, \"rate\": -3.4}, {\"region\": \"Dnipropetrovsk\", \"year\": 2003, \"rate\": -8.4}, {\"region\": \"Donetsk\", \"year\": 2003, \"rate\": -10.3}, {\"region\": \"Zhytomyr\", \"year\": 2003, \"rate\": -8.5}, {\"region\": \"Zakarpattia\", \"year\": 2003, \"rate\": -0.1}, {\"region\": \"Zaporizhia\", \"year\": 2003, \"rate\": -8.4}, {\"region\": \"Ivano-Frankivsk\", \"year\": 2003, \"rate\": -3.2}, {\"region\": \"Kyiv\", \"year\": 2003, \"rate\": -8.9}, {\"region\": \"Kirovohrad\", \"year\": 2003, \"rate\": -9.9}, {\"region\": \"Luhansk\", \"year\": 2003, \"rate\": -10.7}, {\"region\": \"Lviv\", \"year\": 2003, \"rate\": -3.8}, {\"region\": \"Mykolaiv\", \"year\": 2003, \"rate\": -7.6}, {\"region\": \"Odesa\", \"year\": 2003, \"rate\": -7.0}, {\"region\": \"Poltava\", \"year\": 2003, \"rate\": -11.2}, {\"region\": \"Rivne\", \"year\": 2003, \"rate\": -1.7}, {\"region\": \"Sumy\", \"year\": 2003, \"rate\": -11.3}, {\"region\": \"Ternopil\", \"year\": 2003, \"rate\": -5.6}, {\"region\": \"Kharkiv\", \"year\": 2003, \"rate\": -8.8}, {\"region\": \"Kherson\", \"year\": 2003, \"rate\": -6.7}, {\"region\": \"Khmelnytskyi\", \"year\": 2003, \"rate\": -7.9}, {\"region\": \"Cherkasy\", \"year\": 2003, \"rate\": -9.9}, {\"region\": \"Chernivtsi\", \"year\": 2003, \"rate\": -3.7}, {\"region\": \"Chernihiv\", \"year\": 2003, \"rate\": -13.2}, {\"region\": \"Kyiv city\", \"year\": 2003, \"rate\": -1.9}, {\"region\": \"Sevastopol\", \"year\": 2003, \"rate\": -5.4}, {\"region\": \"Crimea\", \"year\": 2004, \"rate\": -6.1}, {\"region\": \"Vinnytsia\", \"year\": 2004, \"rate\": -7.9}, {\"region\": \"Volyn\", \"year\": 2004, \"rate\": -2.6}, {\"region\": \"Dnipropetrovsk\", \"year\": 2004, \"rate\": -8.1}, {\"region\": \"Donetsk\", \"year\": 2004, \"rate\": -9.9}, {\"region\": \"Zhytomyr\", \"year\": 2004, \"rate\": -8.5}, {\"region\": \"Zakarpattia\", \"year\": 2004, \"rate\": 0.0}, {\"region\": \"Zaporizhia\", \"year\": 2004, \"rate\": -7.8}, {\"region\": \"Ivano-Frankivsk\", \"year\": 2004, \"rate\": -2.2}, {\"region\": \"Kyiv\", \"year\": 2004, \"rate\": -8.6}, {\"region\": \"Kirovohrad\", \"year\": 2004, \"rate\": -9.7}, {\"region\": \"Luhansk\", \"year\": 2004, \"rate\": -10.6}, {\"region\": \"Lviv\", \"year\": 2004, \"rate\": -3.0}, {\"region\": \"Mykolaiv\", \"year\": 2004, \"rate\": -7.3}, {\"region\": \"Odesa\", \"year\": 2004, \"rate\": -6.4}, {\"region\": \"Poltava\", \"year\": 2004, \"rate\": -10.9}, {\"region\": \"Rivne\", \"year\": 2004, \"rate\": -1.1}, {\"region\": \"Sumy\", \"year\": 2004, \"rate\": -11.5}, {\"region\": \"Ternopil\", \"year\": 2004, \"rate\": -4.5}, {\"region\": \"Kharkiv\", \"year\": 2004, \"rate\": -8.4}, {\"region\": \"Kherson\", \"year\": 2004, \"rate\": -6.4}, {\"region\": \"Khmelnytskyi\", \"year\": 2004, \"rate\": -7.4}, {\"region\": \"Cherkasy\", \"year\": 2004, \"rate\": -10.4}, {\"region\": \"Chernivtsi\", \"year\": 2004, \"rate\": -2.5}, {\"region\": \"Chernihiv\", \"year\": 2004, \"rate\": -13.2}, {\"region\": \"Kyiv city\", \"year\": 2004, \"rate\": -0.9}, {\"region\": \"Sevastopol\", \"year\": 2004, \"rate\": -4.8}, {\"region\": \"Crimea\", \"year\": 2005, \"rate\": -6.7}, {\"region\": \"Vinnytsia\", \"year\": 2005, \"rate\": -9.2}, {\"region\": \"Volyn\", \"year\": 2005, \"rate\": -3.2}, {\"region\": \"Dnipropetrovsk\", \"year\": 2005, \"rate\": -9.0}, {\"region\": \"Donetsk\", \"year\": 2005, \"rate\": -10.3}, {\"region\": \"Zhytomyr\", \"year\": 2005, \"rate\": -9.0}, {\"region\": \"Zakarpattia\", \"year\": 2005, \"rate\": -0.6}, {\"region\": \"Zaporizhia\", \"year\": 2005, \"rate\": -8.0}, {\"region\": \"Ivano-Frankivsk\", \"year\": 2005, \"rate\": -2.7}, {\"region\": \"Kyiv\", \"year\": 2005, \"rate\": -9.0}, {\"region\": \"Kirovohrad\", \"year\": 2005, \"rate\": -10.5}, {\"region\": \"Luhansk\", \"year\": 2005, \"rate\": -10.9}, {\"region\": \"Lviv\", \"year\": 2005, \"rate\": -3.6}, {\"region\": \"Mykolaiv\", \"year\": 2005, \"rate\": -7.7}, {\"region\": \"Odesa\", \"year\": 2005, \"rate\": -6.7}, {\"region\": \"Poltava\", \"year\": 2005, \"rate\": -11.2}, {\"region\": \"Rivne\", \"year\": 2005, \"rate\": -1.7}, {\"region\": \"Sumy\", \"year\": 2005, \"rate\": -12.1}, {\"region\": \"Ternopil\", \"year\": 2005, \"rate\": -5.2}, {\"region\": \"Kharkiv\", \"year\": 2005, \"rate\": -8.6}, {\"region\": \"Kherson\", \"year\": 2005, \"rate\": -7.2}, {\"region\": \"Khmelnytskyi\", \"year\": 2005, \"rate\": -8.4}, {\"region\": \"Cherkasy\", \"year\": 2005, \"rate\": -10.9}, {\"region\": \"Chernivtsi\", \"year\": 2005, \"rate\": -3.2}, {\"region\": \"Chernihiv\", \"year\": 2005, \"rate\": -14.1}, {\"region\": \"Kyiv city\", \"year\": 2005, \"rate\": -1.4}, {\"region\": \"Sevastopol\", \"year\": 2005, \"rate\": -5.8}, {\"region\": \"Crimea\", \"year\": 2006, \"rate\": -5.3}, {\"region\": \"Vinnytsia\", \"year\": 2006, \"rate\": -7.7}, {\"region\": \"Volyn\", \"year\": 2006, \"rate\": -1.8}, {\"region\": \"Dnipropetrovsk\", \"year\": 2006, \"rate\": -7.5}, {\"region\": \"Donetsk\", \"year\": 2006, \"rate\": -9.2}, {\"region\": \"Zhytomyr\", \"year\": 2006, \"rate\": -8.0}, {\"region\": \"Zakarpattia\", \"year\": 2006, \"rate\": 0.5}, {\"region\": \"Zaporizhia\", \"year\": 2006, \"rate\": -7.2}, {\"region\": \"Ivano-Frankivsk\", \"year\": 2006, \"rate\": -1.9}, {\"region\": \"Kyiv\", \"year\": 2006, \"rate\": -8.0}, {\"region\": \"Kirovohrad\", \"year\": 2006, \"rate\": -8.8}, {\"region\": \"Luhansk\", \"year\": 2006, \"rate\": -9.5}, {\"region\": \"Lviv\", \"year\": 2006, \"rate\": -2.9}, {\"region\": \"Mykolaiv\", \"year\": 2006, \"rate\": -6.2}, {\"region\": \"Odesa\", \"year\": 2006, \"rate\": -5.8}, {\"region\": \"Poltava\", \"year\": 2006, \"rate\": -9.3}, {\"region\": \"Rivne\", \"year\": 2006, \"rate\": -0.3}, {\"region\": \"Sumy\", \"year\": 2006, \"rate\": -10.1}, {\"region\": \"Ternopil\", \"year\": 2006, \"rate\": -4.4}, {\"region\": \"Kharkiv\", \"year\": 2006, \"rate\": -7.6}, {\"region\": \"Kherson\", \"year\": 2006, \"rate\": -5.7}, {\"region\": \"Khmelnytskyi\", \"year\": 2006, \"rate\": -7.3}, {\"region\": \"Cherkasy\", \"year\": 2006, \"rate\": -9.4}, {\"region\": \"Chernivtsi\", \"year\": 2006, \"rate\": -2.3}, {\"region\": \"Chernihiv\", \"year\": 2006, \"rate\": -13.0}, {\"region\": \"Kyiv city\", \"year\": 2006, \"rate\": -0.7}, {\"region\": \"Sevastopol\", \"year\": 2006, \"rate\": -5.0}, {\"region\": \"Crimea\", \"year\": 2007, \"rate\": -4.8}, {\"region\": \"Vinnytsia\", \"year\": 2007, \"rate\": -7.5}, {\"region\": \"Volyn\", \"year\": 2007, \"rate\": -1.4}, {\"region\": \"Dnipropetrovsk\", \"year\": 2007, \"rate\": -7.4}, {\"region\": \"Donetsk\", \"year\": 2007, \"rate\": -9.1}, {\"region\": \"Zhytomyr\", \"year\": 2007, \"rate\": -7.6}, {\"region\": \"Zakarpattia\", \"year\": 2007, \"rate\": 0.2}, {\"region\": \"Zaporizhia\", \"year\": 2007, \"rate\": -7.1}, {\"region\": \"Ivano-Frankivsk\", \"year\": 2007, \"rate\": -1.9}, {\"region\": \"Kyiv\", \"year\": 2007, \"rate\": -7.6}, {\"region\": \"Kirovohrad\", \"year\": 2007, \"rate\": -8.8}, {\"region\": \"Luhansk\", \"year\": 2007, \"rate\": -9.1}, {\"region\": \"Lviv\", \"year\": 2007, \"rate\": -2.9}, {\"region\": \"Mykolaiv\", \"year\": 2007, \"rate\": -6.4}, {\"region\": \"Odesa\", \"year\": 2007, \"rate\": -5.0}, {\"region\": \"Poltava\", \"year\": 2007, \"rate\": -9.8}, {\"region\": \"Rivne\", \"year\": 2007, \"rate\": -0.3}, {\"region\": \"Sumy\", \"year\": 2007, \"rate\": -10.2}, {\"region\": \"Ternopil\", \"year\": 2007, \"rate\": -4.5}, {\"region\": \"Kharkiv\", \"year\": 2007, \"rate\": -7.2}, {\"region\": \"Kherson\", \"year\": 2007, \"rate\": -5.9}, {\"region\": \"Khmelnytskyi\", \"year\": 2007, \"rate\": -6.9}, {\"region\": \"Cherkasy\", \"year\": 2007, \"rate\": -9.3}, {\"region\": \"Chernivtsi\", \"year\": 2007, \"rate\": -2.6}, {\"region\": \"Chernihiv\", \"year\": 2007, \"rate\": -13.1}, {\"region\": \"Kyiv city\", \"year\": 2007, \"rate\": -1.0}, {\"region\": \"Sevastopol\", \"year\": 2007, \"rate\": -5.0}, {\"region\": \"Crimea\", \"year\": 2008, \"rate\": -3.7}, {\"region\": \"Vinnytsia\", \"year\": 2008, \"rate\": -6.3}, {\"region\": \"Volyn\", \"year\": 2008, \"rate\": -0.2}, {\"region\": \"Dnipropetrovsk\", \"year\": 2008, \"rate\": -6.7}, {\"region\": \"Donetsk\", \"year\": 2008, \"rate\": -8.3}, {\"region\": \"Zhytomyr\", \"year\": 2008, \"rate\": -7.0}, {\"region\": \"Zakarpattia\", \"year\": 2008, \"rate\": 1.7}, {\"region\": \"Zaporizhia\", \"year\": 2008, \"rate\": -6.2}, {\"region\": \"Ivano-Frankivsk\", \"year\": 2008, \"rate\": -1.0}, {\"region\": \"Kyiv\", \"year\": 2008, \"rate\": -6.2}, {\"region\": \"Kirovohrad\", \"year\": 2008, \"rate\": -8.4}, {\"region\": \"Luhansk\", \"year\": 2008, \"rate\": -8.5}, {\"region\": \"Lviv\", \"year\": 2008, \"rate\": -2.4}, {\"region\": \"Mykolaiv\", \"year\": 2008, \"rate\": -5.4}, {\"region\": \"Odesa\", \"year\": 2008, \"rate\": -3.9}, {\"region\": \"Poltava\", \"year\": 2008, \"rate\": -8.7}, {\"region\": \"Rivne\", \"year\": 2008, \"rate\": 0.7}, {\"region\": \"Sumy\", \"year\": 2008, \"rate\": -9.6}, {\"region\": \"Ternopil\", \"year\": 2008, \"rate\": -3.5}, {\"region\": \"Kharkiv\", \"year\": 2008, \"rate\": -6.4}, {\"region\": \"Kherson\", \"year\": 2008, \"rate\": -5.0}, {\"region\": \"Khmelnytskyi\", \"year\": 2008, \"rate\": -6.0}, {\"region\": \"Cherkasy\", \"year\": 2008, \"rate\": -8.4}, {\"region\": \"Chernivtsi\", \"year\": 2008, \"rate\": -1.3}, {\"region\": \"Chernihiv\", \"year\": 2008, \"rate\": -12.2}, {\"region\": \"Kyiv city\", \"year\": 2008, \"rate\": 0.7}, {\"region\": \"Sevastopol\", \"year\": 2008, \"rate\": -4.6}, {\"region\": \"Crimea\", \"year\": 2009, \"rate\": -2.5}, {\"region\": \"Vinnytsia\", \"year\": 2009, \"rate\": -5.3}, {\"region\": \"Volyn\", \"year\": 2009, \"rate\": 0.7}, {\"region\": \"Dnipropetrovsk\", \"year\": 2009, \"rate\": -5.2}, {\"region\": \"Donetsk\", \"year\": 2009, \"rate\": -7.1}, {\"region\": \"Zhytomyr\", \"year\": 2009, \"rate\": -5.3}, {\"region\": \"Zakarpattia\", \"year\": 2009, \"rate\": 2.1}, {\"region\": \"Zaporizhia\", \"year\": 2009, \"rate\": -5.4}, {\"region\": \"Ivano-Frankivsk\", \"year\": 2009, \"rate\": -0.1}, {\"region\": \"Kyiv\", \"year\": 2009, \"rate\": -4.7}, {\"region\": \"Kirovohrad\", \"year\": 2009, \"rate\": -6.7}, {\"region\": \"Luhansk\", \"year\": 2009, \"rate\": -7.6}, {\"region\": \"Lviv\", \"year\": 2009, \"rate\": -1.1}, {\"region\": \"Mykolaiv\", \"year\": 2009, \"rate\": -4.7}, {\"region\": \"Odesa\", \"year\": 2009, \"rate\": -2.9}, {\"region\": \"Poltava\", \"year\": 2009, \"rate\": -8.0}, {\"region\": \"Rivne\", \"year\": 2009, \"rate\": 1.8}, {\"region\": \"Sumy\", \"year\": 2009, \"rate\": -8.9}, {\"region\": \"Ternopil\", \"year\": 2009, \"rate\": -2.9}, {\"region\": \"Kharkiv\", \"year\": 2009, \"rate\": -5.5}, {\"region\": \"Kherson\", \"year\": 2009, \"rate\": -4.2}, {\"region\": \"Khmelnytskyi\", \"year\": 2009, \"rate\": -5.3}, {\"region\": \"Cherkasy\", \"year\": 2009, \"rate\": -7.2}, {\"region\": \"Chernivtsi\", \"year\": 2009, \"rate\": -0.7}, {\"region\": \"Chernihiv\", \"year\": 2009, \"rate\": -10.5}, {\"region\": \"Kyiv city\", \"year\": 2009, \"rate\": 1.5}, {\"region\": \"Sevastopol\", \"year\": 2009, \"rate\": -3.3}, {\"region\": \"Crimea\", \"year\": 2010, \"rate\": -2.7}, {\"region\": \"Vinnytsia\", \"year\": 2010, \"rate\": -5.5}, {\"region\": \"Volyn\", \"year\": 2010, \"rate\": 0.4}, {\"region\": \"Dnipropetrovsk\", \"year\": 2010, \"rate\": -5.7}, {\"region\": \"Donetsk\", \"year\": 2010, \"rate\": -7.3}, {\"region\": \"Zhytomyr\", \"year\": 2010, \"rate\": -5.2}, {\"region\": \"Zakarpattia\", \"year\": 2010, \"rate\": 2.7}, {\"region\": \"Zaporizhia\", \"year\": 2010, \"rate\": -5.8}, {\"region\": \"Ivano-Frankivsk\", \"year\": 2010, \"rate\": -0.9}, {\"region\": \"Kyiv\", \"year\": 2010, \"rate\": -5.0}, {\"region\": \"Kirovohrad\", \"year\": 2010, \"rate\": -7.0}, {\"region\": \"Luhansk\", \"year\": 2010, \"rate\": -7.8}, {\"region\": \"Lviv\", \"year\": 2010, \"rate\": -1.6}, {\"region\": \"Mykolaiv\", \"year\": 2010, \"rate\": -5.0}, {\"region\": \"Odesa\", \"year\": 2010, \"rate\": -3.1}, {\"region\": \"Poltava\", \"year\": 2010, \"rate\": -8.0}, {\"region\": \"Rivne\", \"year\": 2010, \"rate\": 1.8}, {\"region\": \"Sumy\", \"year\": 2010, \"rate\": -8.4}, {\"region\": \"Ternopil\", \"year\": 2010, \"rate\": -3.5}, {\"region\": \"Kharkiv\", \"year\": 2010, \"rate\": -5.7}, {\"region\": \"Kherson\", \"year\": 2010, \"rate\": -3.7}, {\"region\": \"Khmelnytskyi\", \"year\": 2010, \"rate\": -4.9}, {\"region\": \"Cherkasy\", \"year\": 2010, \"rate\": -7.2}, {\"region\": \"Chernivtsi\", \"year\": 2010, \"rate\": -0.8}, {\"region\": \"Chernihiv\", \"year\": 2010, \"rate\": -10.5}, {\"region\": \"Kyiv city\", \"year\": 2010, \"rate\": 1.2}, {\"region\": \"Sevastopol\", \"year\": 2010, \"rate\": -3.7}, {\"region\": \"Crimea\", \"year\": 2011, \"rate\": -2.1}, {\"region\": \"Vinnytsia\", \"year\": 2011, \"rate\": -4.6}, {\"region\": \"Volyn\", \"year\": 2011, \"rate\": 0.8}, {\"region\": \"Dnipropetrovsk\", \"year\": 2011, \"rate\": -4.8}, {\"region\": \"Donetsk\", \"year\": 2011, \"rate\": -6.7}, {\"region\": \"Zhytomyr\", \"year\": 2011, \"rate\": -4.1}, {\"region\": \"Zakarpattia\", \"year\": 2011, \"rate\": 3.1}, {\"region\": \"Zaporizhia\", \"year\": 2011, \"rate\": -4.9}, {\"region\": \"Ivano-Frankivsk\", \"year\": 2011, \"rate\": -0.1}, {\"region\": \"Kyiv\", \"year\": 2011, \"rate\": -3.9}, {\"region\": \"Kirovohrad\", \"year\": 2011, \"rate\": -6.1}, {\"region\": \"Luhansk\", \"year\": 2011, \"rate\": -7.0}, {\"region\": \"Lviv\", \"year\": 2011, \"rate\": -0.9}, {\"region\": \"Mykolaiv\", \"year\": 2011, \"rate\": -3.8}, {\"region\": \"Odesa\", \"year\": 2011, \"rate\": -1.9}, {\"region\": \"Poltava\", \"year\": 2011, \"rate\": -6.8}, {\"region\": \"Rivne\", \"year\": 2011, \"rate\": 3.0}, {\"region\": \"Sumy\", \"year\": 2011, \"rate\": -7.2}, {\"region\": \"Ternopil\", \"year\": 2011, \"rate\": -2.6}, {\"region\": \"Kharkiv\", \"year\": 2011, \"rate\": -5.0}, {\"region\": \"Kherson\", \"year\": 2011, \"rate\": -3.5}, {\"region\": \"Khmelnytskyi\", \"year\": 2011, \"rate\": -4.3}, {\"region\": \"Cherkasy\", \"year\": 2011, \"rate\": -6.6}, {\"region\": \"Chernivtsi\", \"year\": 2011, \"rate\": 0.1}, {\"region\": \"Chernihiv\", \"year\": 2011, \"rate\": -9.2}, {\"region\": \"Kyiv city\", \"year\": 2011, \"rate\": 1.8}, {\"region\": \"Sevastopol\", \"year\": 2011, \"rate\": -2.9}, {\"region\": \"Crimea\", \"year\": 2012, \"rate\": -1.1}, {\"region\": \"Vinnytsia\", \"year\": 2012, \"rate\": -4.2}, {\"region\": \"Volyn\", \"year\": 2012, \"rate\": 1.6}, {\"region\": \"Dnipropetrovsk\", \"year\": 2012, \"rate\": -4.3}, {\"region\": \"Donetsk\", \"year\": 2012, \"rate\": -6.3}, {\"region\": \"Zhytomyr\", \"year\": 2012, \"rate\": -4.1}, {\"region\": \"Zakarpattia\", \"year\": 2012, \"rate\": 3.3}, {\"region\": \"Zaporizhia\", \"year\": 2012, \"rate\": -4.2}, {\"region\": \"Ivano-Frankivsk\", \"year\": 2012, \"rate\": 0.2}, {\"region\": \"Kyiv\", \"year\": 2012, \"rate\": -3.6}, {\"region\": \"Kirovohrad\", \"year\": 2012, \"rate\": -5.5}, {\"region\": \"Luhansk\", \"year\": 2012, \"rate\": -6.4}, {\"region\": \"Lviv\", \"year\": 2012, \"rate\": -0.6}, {\"region\": \"Mykolaiv\", \"year\": 2012, \"rate\": -3.2}, {\"region\": \"Odesa\", \"year\": 2012, \"rate\": -1.4}, {\"region\": \"Poltava\", \"year\": 2012, \"rate\": -6.6}, {\"region\": \"Rivne\", \"year\": 2012, \"rate\": 3.5}, {\"region\": \"Sumy\", \"year\": 2012, \"rate\": -6.9}, {\"region\": \"Ternopil\", \"year\": 2012, \"rate\": -2.5}, {\"region\": \"Kharkiv\", \"year\": 2012, \"rate\": -4.7}, {\"region\": \"Kherson\", \"year\": 2012, \"rate\": -3.0}, {\"region\": \"Khmelnytskyi\", \"year\": 2012, \"rate\": -4.2}, {\"region\": \"Cherkasy\", \"year\": 2012, \"rate\": -6.1}, {\"region\": \"Chernivtsi\", \"year\": 2012, \"rate\": 0.3}, {\"region\": \"Chernihiv\", \"year\": 2012, \"rate\": -9.3}, {\"region\": \"Kyiv city\", \"year\": 2012, \"rate\": 2.2}, {\"region\": \"Sevastopol\", \"year\": 2012, \"rate\": -1.7}, {\"region\": \"Crimea\", \"year\": 2013, \"rate\": -1.5}, {\"region\": \"Vinnytsia\", \"year\": 2013, \"rate\": -5.0}, {\"region\": \"Volyn\", \"year\": 2013, \"rate\": 1.0}, {\"region\": \"Dnipropetrovsk\", \"year\": 2013, \"rate\": -4.6}, {\"region\": \"Donetsk\", \"year\": 2013, \"rate\": -6.5}, {\"region\": \"Zhytomyr\", \"year\": 2013, \"rate\": -4.6}, {\"region\": \"Zakarpattia\", \"year\": 2013, \"rate\": 2.9}, {\"region\": \"Zaporizhia\", \"year\": 2013, \"rate\": -4.7}, {\"region\": \"Ivano-Frankivsk\", \"year\": 2013, \"rate\": -0.5}, {\"region\": \"Kyiv\", \"year\": 2013, \"rate\": -3.9}, {\"region\": \"Kirovohrad\", \"year\": 2013, \"rate\": -6.0}, {\"region\": \"Luhansk\", \"year\": 2013, \"rate\": -6.8}, {\"region\": \"Lviv\", \"year\": 2013, \"rate\": -0.9}, {\"region\": \"Mykolaiv\", \"year\": 2013, \"rate\": -3.7}, {\"region\": \"Odesa\", \"year\": 2013, \"rate\": -1.9}, {\"region\": \"Poltava\", \"year\": 2013, \"rate\": -6.8}, {\"region\": \"Rivne\", \"year\": 2013, \"rate\": 2.5}, {\"region\": \"Sumy\", \"year\": 2013, \"rate\": -7.8}, {\"region\": \"Ternopil\", \"year\": 2013, \"rate\": -2.7}, {\"region\": \"Kharkiv\", \"year\": 2013, \"rate\": -4.7}, {\"region\": \"Kherson\", \"year\": 2013, \"rate\": -3.5}, {\"region\": \"Khmelnytskyi\", \"year\": 2013, \"rate\": -4.6}, {\"region\": \"Cherkasy\", \"year\": 2013, \"rate\": -6.6}, {\"region\": \"Chernivtsi\", \"year\": 2013, \"rate\": -0.1}, {\"region\": \"Chernihiv\", \"year\": 2013, \"rate\": -9.4}, {\"region\": \"Kyiv city\", \"year\": 2013, \"rate\": 1.9}, {\"region\": \"Sevastopol\", \"year\": 2013, \"rate\": -2.2}, {\"region\": \"Crimea\", \"year\": 2014, \"rate\": null}, {\"region\": \"Vinnytsia\", \"year\": 2014, \"rate\": -4.9}, {\"region\": \"Volyn\", \"year\": 2014, \"rate\": 0.9}, {\"region\": \"Dnipropetrovsk\", \"year\": 2014, \"rate\": -5.0}, {\"region\": \"Donetsk\", \"year\": 2014, \"rate\": null}, {\"region\": \"Zhytomyr\", \"year\": 2014, \"rate\": -4.8}, {\"region\": \"Zakarpattia\", \"year\": 2014, \"rate\": 2.8}, {\"region\": \"Zaporizhia\", \"year\": 2014, \"rate\": -5.1}, {\"region\": \"Ivano-Frankivsk\", \"year\": 2014, \"rate\": -0.6}, {\"region\": \"Kyiv\", \"year\": 2014, \"rate\": -4.3}, {\"region\": \"Kirovohrad\", \"year\": 2014, \"rate\": -6.3}, {\"region\": \"Luhansk\", \"year\": 2014, \"rate\": null}, {\"region\": \"Lviv\", \"year\": 2014, \"rate\": -0.9}, {\"region\": \"Mykolaiv\", \"year\": 2014, \"rate\": -4.0}, {\"region\": \"Odesa\", \"year\": 2014, \"rate\": -2.0}, {\"region\": \"Poltava\", \"year\": 2014, \"rate\": -7.1}, {\"region\": \"Rivne\", \"year\": 2014, \"rate\": 2.1}, {\"region\": \"Sumy\", \"year\": 2014, \"rate\": -8.0}, {\"region\": \"Ternopil\", \"year\": 2014, \"rate\": -3.3}, {\"region\": \"Kharkiv\", \"year\": 2014, \"rate\": -5.2}, {\"region\": \"Kherson\", \"year\": 2014, \"rate\": -3.6}, {\"region\": \"Khmelnytskyi\", \"year\": 2014, \"rate\": -4.4}, {\"region\": \"Cherkasy\", \"year\": 2014, \"rate\": -6.8}, {\"region\": \"Chernivtsi\", \"year\": 2014, \"rate\": 0.0}, {\"region\": \"Chernihiv\", \"year\": 2014, \"rate\": -10.2}, {\"region\": \"Kyiv city\", \"year\": 2014, \"rate\": 1.7}, {\"region\": \"Sevastopol\", \"year\": 2014, \"rate\": null}, {\"region\": \"Crimea\", \"year\": 2015, \"rate\": null}, {\"region\": \"Vinnytsia\", \"year\": 2015, \"rate\": -5.7}, {\"region\": \"Volyn\", \"year\": 2015, \"rate\": -0.4}, {\"region\": \"Dnipropetrovsk\", \"year\": 2015, \"rate\": -6.3}, {\"region\": \"Donetsk\", \"year\": 2015, \"rate\": null}, {\"region\": \"Zhytomyr\", \"year\": 2015, \"rate\": -5.7}, {\"region\": \"Zakarpattia\", \"year\": 2015, \"rate\": 1.0}, {\"region\": \"Zaporizhia\", \"year\": 2015, \"rate\": -6.5}, {\"region\": \"Ivano-Frankivsk\", \"year\": 2015, \"rate\": -1.5}, {\"region\": \"Kyiv\", \"year\": 2015, \"rate\": -4.7}, {\"region\": \"Kirovohrad\", \"year\": 2015, \"rate\": -6.9}, {\"region\": \"Luhansk\", \"year\": 2015, \"rate\": null}, {\"region\": \"Lviv\", \"year\": 2015, \"rate\": -2.0}, {\"region\": \"Mykolaiv\", \"year\": 2015, \"rate\": -5.5}, {\"region\": \"Odesa\", \"year\": 2015, \"rate\": -2.9}, {\"region\": \"Poltava\", \"year\": 2015, \"rate\": -7.7}, {\"region\": \"Rivne\", \"year\": 2015, \"rate\": 1.2}, {\"region\": \"Sumy\", \"year\": 2015, \"rate\": -8.2}, {\"region\": \"Ternopil\", \"year\": 2015, \"rate\": -4.2}, {\"region\": \"Kharkiv\", \"year\": 2015, \"rate\": -6.4}, {\"region\": \"Kherson\", \"year\": 2015, \"rate\": -4.9}, {\"region\": \"Khmelnytskyi\", \"year\": 2015, \"rate\": -5.2}, {\"region\": \"Cherkasy\", \"year\": 2015, \"rate\": -7.0}, {\"region\": \"Chernivtsi\", \"year\": 2015, \"rate\": -1.2}, {\"region\": \"Chernihiv\", \"year\": 2015, \"rate\": -10.3}, {\"region\": \"Kyiv city\", \"year\": 2015, \"rate\": 1.8}, {\"region\": \"Sevastopol\", \"year\": 2015, \"rate\": null}, {\"region\": \"Crimea\", \"year\": 2016, \"rate\": null}, {\"region\": \"Vinnytsia\", \"year\": 2016, \"rate\": -5.8}, {\"region\": \"Volyn\", \"year\": 2016, \"rate\": -0.5}, {\"region\": \"Dnipropetrovsk\", \"year\": 2016, \"rate\": -6.8}, {\"region\": \"Donetsk\", \"year\": 2016, \"rate\": null}, {\"region\": \"Zhytomyr\", \"year\": 2016, \"rate\": -5.8}, {\"region\": \"Zakarpattia\", \"year\": 2016, \"rate\": 0.5}, {\"region\": \"Zaporizhia\", \"year\": 2016, \"rate\": -7.1}, {\"region\": \"Ivano-Frankivsk\", \"year\": 2016, \"rate\": -1.9}, {\"region\": \"Kyiv\", \"year\": 2016, \"rate\": -5.3}, {\"region\": \"Kirovohrad\", \"year\": 2016, \"rate\": -7.7}, {\"region\": \"Luhansk\", \"year\": 2016, \"rate\": null}, {\"region\": \"Lviv\", \"year\": 2016, \"rate\": -2.0}, {\"region\": \"Mykolaiv\", \"year\": 2016, \"rate\": -5.8}, {\"region\": \"Odesa\", \"year\": 2016, \"rate\": -3.0}, {\"region\": \"Poltava\", \"year\": 2016, \"rate\": -8.4}, {\"region\": \"Rivne\", \"year\": 2016, \"rate\": 1.0}, {\"region\": \"Sumy\", \"year\": 2016, \"rate\": -8.9}, {\"region\": \"Ternopil\", \"year\": 2016, \"rate\": -4.7}, {\"region\": \"Kharkiv\", \"year\": 2016, \"rate\": -6.7}, {\"region\": \"Kherson\", \"year\": 2016, \"rate\": -5.3}, {\"region\": \"Khmelnytskyi\", \"year\": 2016, \"rate\": -5.6}, {\"region\": \"Cherkasy\", \"year\": 2016, \"rate\": -7.8}, {\"region\": \"Chernivtsi\", \"year\": 2016, \"rate\": -1.5}, {\"region\": \"Chernihiv\", \"year\": 2016, \"rate\": -10.3}, {\"region\": \"Kyiv city\", \"year\": 2016, \"rate\": 2.0}, {\"region\": \"Sevastopol\", \"year\": 2016, \"rate\": null}, {\"region\": \"Crimea\", \"year\": 2017, \"rate\": null}, {\"region\": \"Vinnytsia\", \"year\": 2017, \"rate\": -6.3}, {\"region\": \"Volyn\", \"year\": 2017, \"rate\": -1.6}, {\"region\": \"Dnipropetrovsk\", \"year\": 2017, \"rate\": -7.3}, {\"region\": \"Donetsk\", \"year\": 2017, \"rate\": null}, {\"region\": \"Zhytomyr\", \"year\": 2017, \"rate\": -6.8}, {\"region\": \"Zakarpattia\", \"year\": 2017, \"rate\": -0.4}, {\"region\": \"Zaporizhia\", \"year\": 2017, \"rate\": -7.8}, {\"region\": \"Ivano-Frankivsk\", \"year\": 2017, \"rate\": -2.9}, {\"region\": \"Kyiv\", \"year\": 2017, \"rate\": -6.3}, {\"region\": \"Kirovohrad\", \"year\": 2017, \"rate\": -8.1}, {\"region\": \"Luhansk\", \"year\": 2017, \"rate\": null}, {\"region\": \"Lviv\", \"year\": 2017, \"rate\": -2.8}, {\"region\": \"Mykolaiv\", \"year\": 2017, \"rate\": -6.0}, {\"region\": \"Odesa\", \"year\": 2017, \"rate\": -3.4}, {\"region\": \"Poltava\", \"year\": 2017, \"rate\": -8.7}, {\"region\": \"Rivne\", \"year\": 2017, \"rate\": -0.2}, {\"region\": \"Sumy\", \"year\": 2017, \"rate\": -8.7}, {\"region\": \"Ternopil\", \"year\": 2017, \"rate\": -5.2}, {\"region\": \"Kharkiv\", \"year\": 2017, \"rate\": -7.2}, {\"region\": \"Kherson\", \"year\": 2017, \"rate\": -5.6}, {\"region\": \"Khmelnytskyi\", \"year\": 2017, \"rate\": -6.3}, {\"region\": \"Cherkasy\", \"year\": 2017, \"rate\": -8.4}, {\"region\": \"Chernivtsi\", \"year\": 2017, \"rate\": -2.0}, {\"region\": \"Chernihiv\", \"year\": 2017, \"rate\": -11.0}, {\"region\": \"Kyiv city\", \"year\": 2017, \"rate\": 1.6}, {\"region\": \"Sevastopol\", \"year\": 2017, \"rate\": null}, {\"region\": \"Crimea\", \"year\": 2018, \"rate\": null}, {\"region\": \"Vinnytsia\", \"year\": 2018, \"rate\": -7.4}, {\"region\": \"Volyn\", \"year\": 2018, \"rate\": -2.3}, {\"region\": \"Dnipropetrovsk\", \"year\": 2018, \"rate\": -8.5}, {\"region\": \"Donetsk\", \"year\": 2018, \"rate\": null}, {\"region\": \"Zhytomyr\", \"year\": 2018, \"rate\": -7.8}, {\"region\": \"Zakarpattia\", \"year\": 2018, \"rate\": -1.2}, {\"region\": \"Zaporizhia\", \"year\": 2018, \"rate\": -8.9}, {\"region\": \"Ivano-Frankivsk\", \"year\": 2018, \"rate\": -3.5}, {\"region\": \"Kyiv\", \"year\": 2018, \"rate\": -7.6}, {\"region\": \"Kirovohrad\", \"year\": 2018, \"rate\": -8.9}, {\"region\": \"Luhansk\", \"year\": 2018, \"rate\": null}, {\"region\": \"Lviv\", \"year\": 2018, \"rate\": -3.8}, {\"region\": \"Mykolaiv\", \"year\": 2018, \"rate\": -7.1}, {\"region\": \"Odesa\", \"year\": 2018, \"rate\": -4.4}, {\"region\": \"Poltava\", \"year\": 2018, \"rate\": -9.6}, {\"region\": \"Rivne\", \"year\": 2018, \"rate\": -1.0}, {\"region\": \"Sumy\", \"year\": 2018, \"rate\": -9.9}, {\"region\": \"Ternopil\", \"year\": 2018, \"rate\": -6.2}, {\"region\": \"Kharkiv\", \"year\": 2018, \"rate\": -8.6}, {\"region\": \"Kherson\", \"year\": 2018, \"rate\": -6.8}, {\"region\": \"Khmelnytskyi\", \"year\": 2018, \"rate\": -7.1}, {\"region\": \"Cherkasy\", \"year\": 2018, \"rate\": -9.5}, {\"region\": \"Chernivtsi\", \"year\": 2018, \"rate\": -2.8}, {\"region\": \"Chernihiv\", \"year\": 2018, \"rate\": -12.3}, {\"region\": \"Kyiv city\", \"year\": 2018, \"rate\": 0.8}, {\"region\": \"Sevastopol\", \"year\": 2018, \"rate\": null}], \"data-3a7e5648582566487e54524fc0af8139\": {\"text\": \"                                                                                Data : State Statistics Service of Ukraine\"}}}, {\"mode\": \"vega-lite\"});\n",
       "</script>"
      ],
      "text/plain": [
       "alt.VConcatChart(...)"
      ]
     },
     "execution_count": 8,
     "metadata": {},
     "output_type": "execute_result"
    }
   ],
   "source": [
    "chart = alt.vconcat(chart2, chart1, annotation).configure_title(\n",
    "    color=titlecolor,\n",
    "    font=font,\n",
    "    fontSize=titlesize,\n",
    "    anchor='start'\n",
    ").properties(\n",
    "    padding={'left': 50, 'top': 40, 'right': 40, 'bottom': 50},\n",
    "    title=alt.TitleParams('Ukraine Population Prospects',dx=90),\n",
    "    background=bg_color\n",
    ").configure_view(\n",
    "    stroke=None\n",
    ")\n",
    "chart.title = 'Population growth rate by region'\n",
    "chart"
   ]
  }
 ],
 "metadata": {
  "kernelspec": {
   "display_name": "Python 3",
   "language": "python",
   "name": "python3"
  },
  "language_info": {
   "codemirror_mode": {
    "name": "ipython",
    "version": 3
   },
   "file_extension": ".py",
   "mimetype": "text/x-python",
   "name": "python",
   "nbconvert_exporter": "python",
   "pygments_lexer": "ipython3",
   "version": "3.7.4"
  }
 },
 "nbformat": 4,
 "nbformat_minor": 2
}
